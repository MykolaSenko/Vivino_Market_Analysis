{
 "cells": [
  {
   "cell_type": "code",
   "execution_count": 8,
   "metadata": {},
   "outputs": [],
   "source": [
    "import sqlite3\n",
    "#connect to database\n",
    "connexion = sqlite3.connect(\"../data/vivino.db\")\n",
    "#fetch results from database\n",
    "cursor = connexion.cursor()"
   ]
  },
  {
   "cell_type": "code",
   "execution_count": 9,
   "metadata": {},
   "outputs": [
    {
     "data": {
      "text/plain": [
       "[(2036, 'Mazzei Siepi 2005', 1471, 4.4, 580, 2005, 168.75, None, None, 750),\n",
       " (2202,\n",
       "  'Antinori Tignanello 2005',\n",
       "  1652,\n",
       "  4.5,\n",
       "  1933,\n",
       "  2005,\n",
       "  750.0,\n",
       "  None,\n",
       "  None,\n",
       "  1500),\n",
       " (10343,\n",
       "  'Casanova di Neri Tenuta Nuova Brunello di Montalcino 2001',\n",
       "  9712,\n",
       "  4.5,\n",
       "  611,\n",
       "  2001,\n",
       "  420.0,\n",
       "  None,\n",
       "  None,\n",
       "  750),\n",
       " (10786,\n",
       "  'Poggio Antico Altero Brunello di Montalcino 2006',\n",
       "  10152,\n",
       "  4.5,\n",
       "  236,\n",
       "  2006,\n",
       "  121.25,\n",
       "  None,\n",
       "  None,\n",
       "  750),\n",
       " (10809,\n",
       "  'Château Angelus Saint-Émilion Grand Cru (Premier Grand Cru Classé) 2007',\n",
       "  10175,\n",
       "  4.5,\n",
       "  876,\n",
       "  2007,\n",
       "  726.25,\n",
       "  None,\n",
       "  None,\n",
       "  750),\n",
       " (11563,\n",
       "  'Paul Jaboulet Aîné Hermitage La Chapelle Rouge 2006',\n",
       "  10922,\n",
       "  4.5,\n",
       "  927,\n",
       "  2006,\n",
       "  310.0,\n",
       "  None,\n",
       "  None,\n",
       "  750),\n",
       " (14600,\n",
       "  'Renato Ratti Barolo Rocche 2004',\n",
       "  13904,\n",
       "  4.5,\n",
       "  256,\n",
       "  2004,\n",
       "  202.5,\n",
       "  None,\n",
       "  None,\n",
       "  750),\n",
       " (14665,\n",
       "  \"Emidio Pepe Montepulciano d'Abruzzo 2001\",\n",
       "  13969,\n",
       "  4.4,\n",
       "  452,\n",
       "  2001,\n",
       "  248.25,\n",
       "  None,\n",
       "  None,\n",
       "  750),\n",
       " (15887,\n",
       "  'La Spinetta Vürsù Barbaresco Starderi 2005',\n",
       "  15182,\n",
       "  4.4,\n",
       "  296,\n",
       "  2005,\n",
       "  262.5,\n",
       "  None,\n",
       "  None,\n",
       "  750),\n",
       " (21786,\n",
       "  'Renato Ratti Barolo Rocche 2001',\n",
       "  13904,\n",
       "  0.0,\n",
       "  2,\n",
       "  2001,\n",
       "  276.25,\n",
       "  None,\n",
       "  None,\n",
       "  750)]"
      ]
     },
     "execution_count": 9,
     "metadata": {},
     "output_type": "execute_result"
    }
   ],
   "source": [
    "#retrieve all elements from table Vintages\n",
    "cursor.execute(\"\"\"\n",
    "    SELECT\n",
    "        *\n",
    "    FROM\n",
    "        vintages\n",
    "    LIMIT 10;\n",
    "\"\"\")\n",
    "cursor.fetchall()"
   ]
  },
  {
   "cell_type": "code",
   "execution_count": 10,
   "metadata": {},
   "outputs": [
    {
     "data": {
      "text/plain": [
       "[(4.4,), (4.5,), (0.0,), (4.7,), (4.6,), (4.8,), (4.9,)]"
      ]
     },
     "execution_count": 10,
     "metadata": {},
     "output_type": "execute_result"
    }
   ],
   "source": [
    "# find unique value of ratings_average\n",
    "query = \"\"\"\n",
    "    SELECT DISTINCT\n",
    "        ratings_average\n",
    "        \n",
    "    FROM\n",
    "        vintages;\n",
    "\"\"\"\n",
    "cursor.execute(query)\n",
    "result = cursor.fetchall()\n",
    "result"
   ]
  },
  {
   "cell_type": "code",
   "execution_count": 11,
   "metadata": {},
   "outputs": [
    {
     "data": {
      "text/plain": [
       "[(4.9, 32, 397.5),\n",
       " (4.9, 35, 1970.05),\n",
       " (4.8, 1000, 1900.0),\n",
       " (4.8, 235, 3522.5),\n",
       " (4.8, 1004, 2882.5),\n",
       " (4.8, 88, 808.75),\n",
       " (4.8, 104, 1921.25),\n",
       " (4.8, 333, 3096.25),\n",
       " (4.8, 52, 1152.5),\n",
       " (4.8, 1190, 6300.0)]"
      ]
     },
     "execution_count": 11,
     "metadata": {},
     "output_type": "execute_result"
    }
   ],
   "source": [
    "#retrieve top 10 ratings from table vintages\n",
    "cursor.execute(\"\"\"\n",
    "    SELECT\n",
    "        ratings_average,ratings_count,price_euros\n",
    "    FROM\n",
    "        vintages\n",
    "    \n",
    "    ORDER BY \n",
    "        ratings_average DESC\n",
    "    LIMIT 10;\n",
    "\"\"\")\n",
    "cursor.fetchall()"
   ]
  },
  {
   "cell_type": "code",
   "execution_count": 12,
   "metadata": {},
   "outputs": [
    {
     "data": {
      "text/plain": [
       "[(4.4, 36681, 72.0),\n",
       " (4.6, 28513, 245.0),\n",
       " (4.4, 23241, 81.5),\n",
       " (4.4, 21147, 49.61),\n",
       " (4.6, 21121, 440.0),\n",
       " (4.5, 17090, 63.95),\n",
       " (4.5, 16804, 180.0),\n",
       " (4.6, 15647, 177.95),\n",
       " (4.6, 14650, 460.0),\n",
       " (4.6, 13709, 420.0)]"
      ]
     },
     "execution_count": 12,
     "metadata": {},
     "output_type": "execute_result"
    }
   ],
   "source": [
    "#retrieve number of counts from table vintages\n",
    "cursor.execute(\"\"\"\n",
    "    SELECT\n",
    "        ratings_average,ratings_count,price_euros\n",
    "    FROM\n",
    "        vintages\n",
    "    \n",
    "    ORDER BY \n",
    "        ratings_count DESC\n",
    "    LIMIT 10;\n",
    "\"\"\")\n",
    "cursor.fetchall()"
   ]
  },
  {
   "cell_type": "code",
   "execution_count": 13,
   "metadata": {},
   "outputs": [
    {
     "data": {
      "text/plain": [
       "[(4.7, 5254, 836.3),\n",
       " (4.7, 4948, 1665.0),\n",
       " (4.7, 4757, 2071.25),\n",
       " (4.7, 3475, 896.25),\n",
       " (4.7, 3465, 202.2),\n",
       " (4.7, 3275, 597.5),\n",
       " (4.7, 2722, 535.0),\n",
       " (4.7, 2516, 1665.0),\n",
       " (4.7, 2459, 702.5),\n",
       " (4.7, 2228, 527.6),\n",
       " (4.7, 2186, 705.0),\n",
       " (4.7, 2181, 533.75),\n",
       " (4.7, 2128, 1537.5),\n",
       " (4.7, 1890, 443.0),\n",
       " (4.7, 1869, 1173.75),\n",
       " (4.7, 1858, 928.3),\n",
       " (4.7, 1736, 1686.25),\n",
       " (4.7, 1676, 1451.25),\n",
       " (4.7, 1586, 265.0),\n",
       " (4.7, 1564, 668.75)]"
      ]
     },
     "execution_count": 13,
     "metadata": {},
     "output_type": "execute_result"
    }
   ],
   "source": [
    "#choose the median of ratings \n",
    "query = \"\"\"\n",
    "    SELECT\n",
    "        ratings_average, ratings_count, price_euros \n",
    "\n",
    "    FROM\n",
    "        vintages\n",
    "    WHERE\n",
    "        ratings_average>4.6\n",
    "        \n",
    "        \n",
    "    ORDER BY \n",
    "       ratings_count DESC\n",
    "       \n",
    " LIMIT 20\n",
    " ;\n",
    "\"\"\"\n",
    "cursor.execute(query)\n",
    "result = cursor.fetchall()\n",
    "\n",
    "result\n"
   ]
  },
  {
   "cell_type": "code",
   "execution_count": 14,
   "metadata": {},
   "outputs": [
    {
     "data": {
      "text/plain": [
       "[('Tenuta San Guido Sassicaia 2016', 4.7, 5254, 836.3),\n",
       " ('Louis Roederer Cristal Brut Champagne (Millésimé) 2002', 4.7, 3475, 896.25),\n",
       " ('Vega Sicilia Valbuena 5º 2016', 4.7, 3465, 202.2),\n",
       " ('Château Pontet-Canet Pauillac (Grand Cru Classé) 2009', 4.7, 3275, 597.5),\n",
       " ('Opus One Opus One 2017', 4.7, 2722, 535.0),\n",
       " (\"Antinori Tenuta Tignanello 'Solaia' 2015\", 4.7, 2459, 702.5),\n",
       " ('Opus One Opus One 2018', 4.7, 2228, 527.6),\n",
       " (\"Antinori Tenuta Tignanello 'Solaia' 2009\", 4.7, 2186, 705.0),\n",
       " ('Ornellaia Bolgheri Superiore 2007', 4.7, 2181, 533.75),\n",
       " ('Caymus Special Selection Cabernet Sauvignon 2017', 4.7, 1890, 443.0)]"
      ]
     },
     "execution_count": 14,
     "metadata": {},
     "output_type": "execute_result"
    }
   ],
   "source": [
    "#choose the price under 1000 of median rating\n",
    "query = \"\"\"\n",
    "    SELECT\n",
    "        name,ratings_average, ratings_count, price_euros \n",
    "\n",
    "    FROM\n",
    "        vintages\n",
    "    WHERE\n",
    "        ratings_average>4.6\n",
    "        AND price_euros<1000\n",
    "        \n",
    "        \n",
    "    ORDER BY \n",
    "       ratings_count DESC\n",
    "       \n",
    " LIMIT 10\n",
    " ;\n",
    "\"\"\"\n",
    "cursor.execute(query)\n",
    "top_wines = cursor.fetchall()\n",
    "\n",
    "top_wines\n",
    "#for row in top_wines:\n",
    "    #print(\"Name of the wine:\",row[0])\n",
    "    #print(\"Rating of the wine:\",row[1])\n",
    "    #print(\"Number of count:\",row[2])\n",
    "    #print(\"Price in Euro:\",row[3])\n",
    "\n"
   ]
  }
 ],
 "metadata": {
  "kernelspec": {
   "display_name": "Python 3",
   "language": "python",
   "name": "python3"
  },
  "language_info": {
   "codemirror_mode": {
    "name": "ipython",
    "version": 3
   },
   "file_extension": ".py",
   "mimetype": "text/x-python",
   "name": "python",
   "nbconvert_exporter": "python",
   "pygments_lexer": "ipython3",
   "version": "3.10.12"
  },
  "orig_nbformat": 4
 },
 "nbformat": 4,
 "nbformat_minor": 2
}
