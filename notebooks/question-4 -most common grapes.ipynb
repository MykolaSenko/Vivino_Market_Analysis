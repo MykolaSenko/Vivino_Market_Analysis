{
 "cells": [
  {
   "cell_type": "markdown",
   "metadata": {},
   "source": [
    "Question#4 3 Most common grapes and 5 best rated wines made from the grapes"
   ]
  },
  {
   "cell_type": "markdown",
   "metadata": {},
   "source": [
    "3 Most common grapes all over the world"
   ]
  },
  {
   "cell_type": "code",
   "execution_count": 1,
   "metadata": {},
   "outputs": [],
   "source": [
    "import pandas as pd\n",
    "import sqlite3\n",
    "\n",
    "connexion = sqlite3.connect(\"../data/vivino.db\")\n",
    "cursor = connexion.cursor()"
   ]
  },
  {
   "cell_type": "code",
   "execution_count": 2,
   "metadata": {},
   "outputs": [
    {
     "data": {
      "text/plain": [
       "[(1, 'Shiraz/Syrah'),\n",
       " (2, 'Cabernet Sauvignon'),\n",
       " (5, 'Chardonnay'),\n",
       " (9, 'Malbec'),\n",
       " (10, 'Merlot'),\n",
       " (14, 'Pinot Noir'),\n",
       " (15, 'Riesling'),\n",
       " (16, 'Sangiovese'),\n",
       " (19, 'Tempranillo'),\n",
       " (51, 'Carménère')]"
      ]
     },
     "execution_count": 2,
     "metadata": {},
     "output_type": "execute_result"
    }
   ],
   "source": [
    "cursor.execute(\"\"\"\n",
    "    SELECT\n",
    "        *\n",
    "    FROM\n",
    "        grapes\n",
    "    LIMIT 10;\n",
    "\"\"\")\n",
    "cursor.fetchall()"
   ]
  },
  {
   "cell_type": "code",
   "execution_count": 3,
   "metadata": {},
   "outputs": [
    {
     "data": {
      "text/plain": [
       "[('Cabernet Sauvignon', 801751),\n",
       " ('Chardonnay', 604208),\n",
       " ('Pinot Noir', 572334)]"
      ]
     },
     "execution_count": 3,
     "metadata": {},
     "output_type": "execute_result"
    }
   ],
   "source": [
    "#retrieve most 3 common grapes from Table grapes \n",
    "query1=f\"\"\"\n",
    "    SELECT\n",
    "        DISTINCT grapes.name, \n",
    "        most_used_grapes_per_country.wines_count\n",
    "    FROM\n",
    "        grapes\n",
    "               \n",
    "        JOIN most_used_grapes_per_country ON grapes.id=most_used_grapes_per_country.grape_id\n",
    "               \n",
    "    ORDER BY most_used_grapes_per_country.wines_count DESC\n",
    "\n",
    "    LIMIT 3;\n",
    "\"\"\"\n",
    "cursor.execute(query1)\n",
    "\n",
    "cursor.fetchall()\n"
   ]
  },
  {
   "cell_type": "markdown",
   "metadata": {},
   "source": [
    "Best rated wines made from the grapes"
   ]
  },
  {
   "cell_type": "code",
   "execution_count": 4,
   "metadata": {},
   "outputs": [
    {
     "data": {
      "text/plain": [
       "[('Mágico', 'Cabernet Sauvignon', 4.8),\n",
       " ('Fratini Bolgheri Superiore', 'Chardonnay', 4.8),\n",
       " ('Cristal Rosé Vinothèque', 'Chardonnay,Pinot Noir', 4.8),\n",
       " ('Batard-Montrachet Grand Cru', 'Chardonnay,Pinot Noir', 4.8),\n",
       " ('Amarone della Valpolicella Classico Riserva', 'Chardonnay', 4.8)]"
      ]
     },
     "execution_count": 4,
     "metadata": {},
     "output_type": "execute_result"
    }
   ],
   "source": [
    "query2=f\"\"\"\n",
    "    SELECT\n",
    "        wines.name,\n",
    "        GROUP_CONCAT(DISTINCT grapes.name) as grape_names,\n",
    "        wines.ratings_average\n",
    "    FROM\n",
    "        wines\n",
    "               \n",
    "    JOIN regions ON wines.region_id=regions.id\n",
    "    JOIN countries ON regions.country_code=countries.code\n",
    "    JOIN most_used_grapes_per_country ON countries.code=most_used_grapes_per_country.country_code\n",
    "    JOIN grapes ON most_used_grapes_per_country.grape_id=grapes.id\n",
    "\n",
    "    WHERE            \n",
    "    grapes.name IN ('Cabernet Sauvignon', 'Chardonnay', 'Pinot Noir')\n",
    "    \n",
    "    GROUP BY\n",
    "    wines.name\n",
    "\n",
    "    ORDER BY \n",
    "    wines.ratings_average DESC\n",
    "\n",
    "    LIMIT 5\n",
    "    \n",
    "    ;\n",
    "\"\"\"\n",
    "cursor.execute(query2)\n",
    "\n",
    "cursor.fetchall()"
   ]
  }
 ],
 "metadata": {
  "kernelspec": {
   "display_name": "Python 3",
   "language": "python",
   "name": "python3"
  },
  "language_info": {
   "codemirror_mode": {
    "name": "ipython",
    "version": 3
   },
   "file_extension": ".py",
   "mimetype": "text/x-python",
   "name": "python",
   "nbconvert_exporter": "python",
   "pygments_lexer": "ipython3",
   "version": "3.10.12"
  },
  "orig_nbformat": 4
 },
 "nbformat": 4,
 "nbformat_minor": 2
}
