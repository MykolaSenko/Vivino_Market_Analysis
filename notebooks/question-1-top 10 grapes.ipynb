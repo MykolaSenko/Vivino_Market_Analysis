{
 "cells": [
  {
   "cell_type": "code",
   "execution_count": 1,
   "metadata": {},
   "outputs": [],
   "source": [
    "import pandas as pd\n",
    "import sqlite3\n",
    "#connect to database\n",
    "connexion = sqlite3.connect(\"../data/vivino.db\")\n",
    "#fetch results from database\n",
    "cursor = connexion.cursor()"
   ]
  },
  {
   "cell_type": "code",
   "execution_count": 2,
   "metadata": {},
   "outputs": [
    {
     "data": {
      "text/plain": [
       "[(2036, 'Mazzei Siepi 2005', 1471, 4.4, 580, 2005, 168.75, None, None, 750),\n",
       " (2202,\n",
       "  'Antinori Tignanello 2005',\n",
       "  1652,\n",
       "  4.5,\n",
       "  1933,\n",
       "  2005,\n",
       "  750.0,\n",
       "  None,\n",
       "  None,\n",
       "  1500),\n",
       " (10343,\n",
       "  'Casanova di Neri Tenuta Nuova Brunello di Montalcino 2001',\n",
       "  9712,\n",
       "  4.5,\n",
       "  611,\n",
       "  2001,\n",
       "  420.0,\n",
       "  None,\n",
       "  None,\n",
       "  750),\n",
       " (10786,\n",
       "  'Poggio Antico Altero Brunello di Montalcino 2006',\n",
       "  10152,\n",
       "  4.5,\n",
       "  236,\n",
       "  2006,\n",
       "  121.25,\n",
       "  None,\n",
       "  None,\n",
       "  750),\n",
       " (10809,\n",
       "  'Château Angelus Saint-Émilion Grand Cru (Premier Grand Cru Classé) 2007',\n",
       "  10175,\n",
       "  4.5,\n",
       "  876,\n",
       "  2007,\n",
       "  726.25,\n",
       "  None,\n",
       "  None,\n",
       "  750),\n",
       " (11563,\n",
       "  'Paul Jaboulet Aîné Hermitage La Chapelle Rouge 2006',\n",
       "  10922,\n",
       "  4.5,\n",
       "  927,\n",
       "  2006,\n",
       "  310.0,\n",
       "  None,\n",
       "  None,\n",
       "  750),\n",
       " (14600,\n",
       "  'Renato Ratti Barolo Rocche 2004',\n",
       "  13904,\n",
       "  4.5,\n",
       "  256,\n",
       "  2004,\n",
       "  202.5,\n",
       "  None,\n",
       "  None,\n",
       "  750),\n",
       " (14665,\n",
       "  \"Emidio Pepe Montepulciano d'Abruzzo 2001\",\n",
       "  13969,\n",
       "  4.4,\n",
       "  452,\n",
       "  2001,\n",
       "  248.25,\n",
       "  None,\n",
       "  None,\n",
       "  750),\n",
       " (15887,\n",
       "  'La Spinetta Vürsù Barbaresco Starderi 2005',\n",
       "  15182,\n",
       "  4.4,\n",
       "  296,\n",
       "  2005,\n",
       "  262.5,\n",
       "  None,\n",
       "  None,\n",
       "  750),\n",
       " (21786,\n",
       "  'Renato Ratti Barolo Rocche 2001',\n",
       "  13904,\n",
       "  0.0,\n",
       "  2,\n",
       "  2001,\n",
       "  276.25,\n",
       "  None,\n",
       "  None,\n",
       "  750)]"
      ]
     },
     "execution_count": 2,
     "metadata": {},
     "output_type": "execute_result"
    }
   ],
   "source": [
    "#retrieve all elements from table Vintages\n",
    "cursor.execute(\"\"\"\n",
    "    SELECT\n",
    "        *\n",
    "    FROM\n",
    "        vintages\n",
    "    LIMIT 10;\n",
    "\"\"\")\n",
    "cursor.fetchall()"
   ]
  },
  {
   "cell_type": "code",
   "execution_count": 3,
   "metadata": {},
   "outputs": [
    {
     "data": {
      "text/plain": [
       "[(4.4,), (4.5,), (4.7,), (4.6,), (4.8,), (4.9,)]"
      ]
     },
     "execution_count": 3,
     "metadata": {},
     "output_type": "execute_result"
    }
   ],
   "source": [
    "# find unique value of ratings_average\n",
    "query = \"\"\"\n",
    "    SELECT DISTINCT\n",
    "        ratings_average\n",
    "        \n",
    "    FROM\n",
    "        vintages\n",
    "        \n",
    "    Where ratings_average!=0.0;\n",
    "\"\"\"\n",
    "cursor.execute(query)\n",
    "result = cursor.fetchall()\n",
    "result"
   ]
  },
  {
   "cell_type": "code",
   "execution_count": 4,
   "metadata": {},
   "outputs": [
    {
     "data": {
      "text/plain": [
       "[(4.4, 334199, 180.61132499999962),\n",
       " (4.5, 266790, 393.61355513308087),\n",
       " (4.6, 338443, 698.7406249999999),\n",
       " (4.7, 122877, 1443.0347142857142),\n",
       " (4.8, 11194, 1861.7382352941179),\n",
       " (4.9, 67, 1183.775)]"
      ]
     },
     "execution_count": 4,
     "metadata": {},
     "output_type": "execute_result"
    }
   ],
   "source": [
    "#count of different ratings\n",
    "query1=(\"\"\"\n",
    "    SELECT\n",
    "        ratings_average,\n",
    "        sum(ratings_count) as number_of_counts,\n",
    "        AVG(price_euros) as Average_price_euros\n",
    "\n",
    "    FROM\n",
    "        vintages\n",
    "\n",
    "    WHERE \n",
    "        ratings_average!=0.0\n",
    "    \n",
    "    GROUP BY \n",
    "        ratings_average \n",
    "\n",
    "    \n",
    "    ;\n",
    "\"\"\")\n",
    "cursor.execute(query1)\n",
    "result=cursor.fetchall()\n",
    "result"
   ]
  },
  {
   "cell_type": "code",
   "execution_count": 5,
   "metadata": {},
   "outputs": [
    {
     "data": {
      "text/plain": [
       "[('Krug Grande Cuvée', 28513, 245.0),\n",
       " ('Dom Pérignon Brut Champagne 2006', 21121, 440.0),\n",
       " ('Caymus Cabernet Sauvignon 2019', 15647, 177.95),\n",
       " ('Dom Pérignon Brut Champagne 2004', 14650, 460.0),\n",
       " ('Antinori Tignanello 2016', 13709, 420.0),\n",
       " ('Antinori Tignanello 2015', 13111, 353.75),\n",
       " ('Antinori Tignanello 2017', 8548, 310.0),\n",
       " ('Tenuta San Guido Sassicaia 2012', 7410, 493.8),\n",
       " ('Tenuta San Guido Sassicaia 2011', 7165, 661.25),\n",
       " ('Tenuta San Guido Sassicaia 2013', 7103, 632.5)]"
      ]
     },
     "execution_count": 5,
     "metadata": {},
     "output_type": "execute_result"
    }
   ],
   "source": [
    "#choose the price under 700 of median rating\n",
    "query2 = \"\"\"\n",
    "    SELECT\n",
    "        name, ratings_count, price_euros \n",
    "\n",
    "    FROM\n",
    "        vintages\n",
    "        \n",
    "    WHERE\n",
    "        ratings_average=4.6\n",
    "        AND price_euros<700\n",
    "        \n",
    "        \n",
    "    ORDER BY \n",
    "       ratings_count DESC\n",
    "       \n",
    " LIMIT 10\n",
    " ;\n",
    "\"\"\"\n",
    "cursor.execute(query2)\n",
    "result = cursor.fetchall()\n",
    "\n",
    "result\n",
    "\n",
    "\n"
   ]
  }
 ],
 "metadata": {
  "kernelspec": {
   "display_name": "Python 3",
   "language": "python",
   "name": "python3"
  },
  "language_info": {
   "codemirror_mode": {
    "name": "ipython",
    "version": 3
   },
   "file_extension": ".py",
   "mimetype": "text/x-python",
   "name": "python",
   "nbconvert_exporter": "python",
   "pygments_lexer": "ipython3",
   "version": "3.10.12"
  },
  "orig_nbformat": 4
 },
 "nbformat": 4,
 "nbformat_minor": 2
}
